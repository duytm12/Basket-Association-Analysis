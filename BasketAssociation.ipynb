{
 "cells": [
  {
   "cell_type": "code",
   "execution_count": 1,
   "id": "initial_id",
   "metadata": {
    "collapsed": true,
    "ExecuteTime": {
     "end_time": "2024-04-24T15:15:05.372236Z",
     "start_time": "2024-04-24T15:15:04.785588Z"
    }
   },
   "outputs": [],
   "source": [
    "import pandas as pd\n",
    "import os\n",
    "import re"
   ]
  },
  {
   "cell_type": "code",
   "outputs": [
    {
     "name": "stdout",
     "output_type": "stream",
     "text": [
      "Successfully concat file Socom2.xlsx\n",
      "Successfully concat file Socom3.xlsx\n",
      "Successfully concat file Socom4.xlsx\n"
     ]
    },
    {
     "data": {
      "text/plain": "            Nhà sản xuất          Khách hàng             Email khách hàng  \\\n0    Maybelline New York     Đinh thị nguyên  nguyennhanthinhdl@gmail.com   \n1    Maybelline New York     Đinh thị nguyên  nguyennhanthinhdl@gmail.com   \n2         L'Oréal Paris      Phạm Đài Trang          daitrangp@gmail.com   \n3         L'Oréal Paris  Trần Thị Ngọc Bích      ngocbichtr192@gmail.com   \n4         L'Oréal Paris     nhiên văn quang                  q@gmail.com   \n..                   ...                 ...                          ...   \n121                  NaN                 NaN                          NaN   \n122                  NaN                 NaN                          NaN   \n123                  NaN                 NaN                          NaN   \n124                  NaN                 NaN                          NaN   \n125                  NaN                 NaN                          NaN   \n\n           Năm      Tháng        Ngày Nguồn lưu lượng (Traffic)      Tham số  \\\n0   2021-01-01 2021-06-01  30/06/2021                    Direct          NaN   \n1   2021-01-01 2021-06-01  30/06/2021                    Direct          NaN   \n2   2021-01-01 2021-06-01  30/06/2021                        fb           --   \n3   2021-01-01 2021-06-01  30/06/2021                        fb       210003   \n4   2021-01-01 2021-06-01  30/06/2021                  Referral  accesstrade   \n..         ...        ...         ...                       ...          ...   \n121        NaT        NaT         NaN                       NaN          NaN   \n122        NaT        NaT         NaN                       NaN          NaN   \n123        NaT        NaT         NaN                       NaN          NaN   \n124        NaT        NaT         NaN                       NaN          NaN   \n125        NaT        NaT         NaN                       NaN          NaN   \n\n       Nguồn giới thiệu (Referral) UTM_campaign  ...  \\\n0                               --           --  ...   \n1                               --           --  ...   \n2          https://l.facebook.com/           --  ...   \n3            http://m.facebook.com      SonLPC2  ...   \n4    https://click.accesstrade.vn/       127641  ...   \n..                             ...          ...  ...   \n121                            NaN          NaN  ...   \n122                            NaN          NaN  ...   \n123                            NaN          NaN  ...   \n124                            NaN          NaN  ...   \n125                            NaN          NaN  ...   \n\n             Phương thức thanh toán Số đơn hàng Doanh thu Tiền khuyến mãi  \\\n0    Thanh toán khi giao hàng (COD)         1.0  129000.0             0.0   \n1    Thanh toán khi giao hàng (COD)         1.0  179000.0             0.0   \n2    Thanh toán khi giao hàng (COD)         1.0       1.0            -1.0   \n3    Thanh toán khi giao hàng (COD)         1.0  449000.0             0.0   \n4    Thanh toán khi giao hàng (COD)         1.0   84000.0             0.0   \n..                              ...         ...       ...             ...   \n121                             NaN         NaN       NaN             NaN   \n122                             NaN         NaN       NaN             NaN   \n123                             NaN         NaN       NaN             NaN   \n124                             NaN         NaN       NaN             NaN   \n125                             NaN         NaN       NaN             NaN   \n\n    Doanh thu thuần Tổng hóa đơn Đã thu Số lượng Vận chuyển  \\\n0          129000.0     129000.0    0.0      1.0        0.0   \n1          179000.0     179000.0    0.0      1.0        0.0   \n2               0.0          0.0    0.0      1.0        0.0   \n3          449000.0     449000.0    0.0      1.0        0.0   \n4           84000.0      84000.0    0.0      1.0        0.0   \n..              ...          ...    ...      ...        ...   \n121             NaN          NaN    NaN      NaN        NaN   \n122             NaN          NaN    NaN      NaN        NaN   \n123             NaN          NaN    NaN      NaN        NaN   \n124             NaN          NaN    NaN      NaN        NaN   \n125             NaN          NaN    NaN      NaN        NaN   \n\n    Nhà sản xuất,Khách hàng,Email khách hàng,Năm,Tháng,Ngày,Nguồn lưu lượng (Traffic),Tham số,Nguồn giới thiệu (Referral),UTM_campaign,UTM_content,UTM_medium,UTM_source,UTM_term,Chi nhánh,Nhân viên tạo,Loại sản phẩm,Tỉnh thành,Trang,Kênh bán hàng,Đơn hàng,Sản phẩm,SKU,Quận huyện vận chuyển,Phiên bản,T.trạng t.toán,T.trạng đ.hàng,Phương thức thanh toán,Số đơn hàng,Doanh thu,Tiền khuyến mãi,Doanh thu thuần,Tổng hóa đơn,Đã thu,Số lượng,Vận chuyển  \n0                                                  NaN                                                                                                                                                                                                                                                                                                                                                                                                           \n1                                                  NaN                                                                                                                                                                                                                                                                                                                                                                                                           \n2                                                  NaN                                                                                                                                                                                                                                                                                                                                                                                                           \n3                                                  NaN                                                                                                                                                                                                                                                                                                                                                                                                           \n4                                                  NaN                                                                                                                                                                                                                                                                                                                                                                                                           \n..                                                 ...                                                                                                                                                                                                                                                                                                                                                                                                           \n121  L'Oréal Paris,Bùi Hạnh,quochung.pham@loreal.c...                                                                                                                                                                                                                                                                                                                                                                                                           \n122  L'Oréal Paris,Bùi Hạnh,quochung.pham@loreal.c...                                                                                                                                                                                                                                                                                                                                                                                                           \n123  Maybelline New York,Trang đoàn,buithiyenvy1910...                                                                                                                                                                                                                                                                                                                                                                                                           \n124  L'Oréal Paris,Bùi Hạnh,quochung.pham@loreal.c...                                                                                                                                                                                                                                                                                                                                                                                                           \n125  L'Oréal Paris,Bùi Hạnh,quochung.pham@loreal.c...                                                                                                                                                                                                                                                                                                                                                                                                           \n\n[28449 rows x 37 columns]",
      "text/html": "<div>\n<style scoped>\n    .dataframe tbody tr th:only-of-type {\n        vertical-align: middle;\n    }\n\n    .dataframe tbody tr th {\n        vertical-align: top;\n    }\n\n    .dataframe thead th {\n        text-align: right;\n    }\n</style>\n<table border=\"1\" class=\"dataframe\">\n  <thead>\n    <tr style=\"text-align: right;\">\n      <th></th>\n      <th>Nhà sản xuất</th>\n      <th>Khách hàng</th>\n      <th>Email khách hàng</th>\n      <th>Năm</th>\n      <th>Tháng</th>\n      <th>Ngày</th>\n      <th>Nguồn lưu lượng (Traffic)</th>\n      <th>Tham số</th>\n      <th>Nguồn giới thiệu (Referral)</th>\n      <th>UTM_campaign</th>\n      <th>...</th>\n      <th>Phương thức thanh toán</th>\n      <th>Số đơn hàng</th>\n      <th>Doanh thu</th>\n      <th>Tiền khuyến mãi</th>\n      <th>Doanh thu thuần</th>\n      <th>Tổng hóa đơn</th>\n      <th>Đã thu</th>\n      <th>Số lượng</th>\n      <th>Vận chuyển</th>\n      <th>Nhà sản xuất,Khách hàng,Email khách hàng,Năm,Tháng,Ngày,Nguồn lưu lượng (Traffic),Tham số,Nguồn giới thiệu (Referral),UTM_campaign,UTM_content,UTM_medium,UTM_source,UTM_term,Chi nhánh,Nhân viên tạo,Loại sản phẩm,Tỉnh thành,Trang,Kênh bán hàng,Đơn hàng,Sản phẩm,SKU,Quận huyện vận chuyển,Phiên bản,T.trạng t.toán,T.trạng đ.hàng,Phương thức thanh toán,Số đơn hàng,Doanh thu,Tiền khuyến mãi,Doanh thu thuần,Tổng hóa đơn,Đã thu,Số lượng,Vận chuyển</th>\n    </tr>\n  </thead>\n  <tbody>\n    <tr>\n      <th>0</th>\n      <td>Maybelline New York</td>\n      <td>Đinh thị nguyên</td>\n      <td>nguyennhanthinhdl@gmail.com</td>\n      <td>2021-01-01</td>\n      <td>2021-06-01</td>\n      <td>30/06/2021</td>\n      <td>Direct</td>\n      <td>NaN</td>\n      <td>--</td>\n      <td>--</td>\n      <td>...</td>\n      <td>Thanh toán khi giao hàng (COD)</td>\n      <td>1.0</td>\n      <td>129000.0</td>\n      <td>0.0</td>\n      <td>129000.0</td>\n      <td>129000.0</td>\n      <td>0.0</td>\n      <td>1.0</td>\n      <td>0.0</td>\n      <td>NaN</td>\n    </tr>\n    <tr>\n      <th>1</th>\n      <td>Maybelline New York</td>\n      <td>Đinh thị nguyên</td>\n      <td>nguyennhanthinhdl@gmail.com</td>\n      <td>2021-01-01</td>\n      <td>2021-06-01</td>\n      <td>30/06/2021</td>\n      <td>Direct</td>\n      <td>NaN</td>\n      <td>--</td>\n      <td>--</td>\n      <td>...</td>\n      <td>Thanh toán khi giao hàng (COD)</td>\n      <td>1.0</td>\n      <td>179000.0</td>\n      <td>0.0</td>\n      <td>179000.0</td>\n      <td>179000.0</td>\n      <td>0.0</td>\n      <td>1.0</td>\n      <td>0.0</td>\n      <td>NaN</td>\n    </tr>\n    <tr>\n      <th>2</th>\n      <td>L'Oréal Paris</td>\n      <td>Phạm Đài Trang</td>\n      <td>daitrangp@gmail.com</td>\n      <td>2021-01-01</td>\n      <td>2021-06-01</td>\n      <td>30/06/2021</td>\n      <td>fb</td>\n      <td>--</td>\n      <td>https://l.facebook.com/</td>\n      <td>--</td>\n      <td>...</td>\n      <td>Thanh toán khi giao hàng (COD)</td>\n      <td>1.0</td>\n      <td>1.0</td>\n      <td>-1.0</td>\n      <td>0.0</td>\n      <td>0.0</td>\n      <td>0.0</td>\n      <td>1.0</td>\n      <td>0.0</td>\n      <td>NaN</td>\n    </tr>\n    <tr>\n      <th>3</th>\n      <td>L'Oréal Paris</td>\n      <td>Trần Thị Ngọc Bích</td>\n      <td>ngocbichtr192@gmail.com</td>\n      <td>2021-01-01</td>\n      <td>2021-06-01</td>\n      <td>30/06/2021</td>\n      <td>fb</td>\n      <td>210003</td>\n      <td>http://m.facebook.com</td>\n      <td>SonLPC2</td>\n      <td>...</td>\n      <td>Thanh toán khi giao hàng (COD)</td>\n      <td>1.0</td>\n      <td>449000.0</td>\n      <td>0.0</td>\n      <td>449000.0</td>\n      <td>449000.0</td>\n      <td>0.0</td>\n      <td>1.0</td>\n      <td>0.0</td>\n      <td>NaN</td>\n    </tr>\n    <tr>\n      <th>4</th>\n      <td>L'Oréal Paris</td>\n      <td>nhiên văn quang</td>\n      <td>q@gmail.com</td>\n      <td>2021-01-01</td>\n      <td>2021-06-01</td>\n      <td>30/06/2021</td>\n      <td>Referral</td>\n      <td>accesstrade</td>\n      <td>https://click.accesstrade.vn/</td>\n      <td>127641</td>\n      <td>...</td>\n      <td>Thanh toán khi giao hàng (COD)</td>\n      <td>1.0</td>\n      <td>84000.0</td>\n      <td>0.0</td>\n      <td>84000.0</td>\n      <td>84000.0</td>\n      <td>0.0</td>\n      <td>1.0</td>\n      <td>0.0</td>\n      <td>NaN</td>\n    </tr>\n    <tr>\n      <th>...</th>\n      <td>...</td>\n      <td>...</td>\n      <td>...</td>\n      <td>...</td>\n      <td>...</td>\n      <td>...</td>\n      <td>...</td>\n      <td>...</td>\n      <td>...</td>\n      <td>...</td>\n      <td>...</td>\n      <td>...</td>\n      <td>...</td>\n      <td>...</td>\n      <td>...</td>\n      <td>...</td>\n      <td>...</td>\n      <td>...</td>\n      <td>...</td>\n      <td>...</td>\n      <td>...</td>\n    </tr>\n    <tr>\n      <th>121</th>\n      <td>NaN</td>\n      <td>NaN</td>\n      <td>NaN</td>\n      <td>NaT</td>\n      <td>NaT</td>\n      <td>NaN</td>\n      <td>NaN</td>\n      <td>NaN</td>\n      <td>NaN</td>\n      <td>NaN</td>\n      <td>...</td>\n      <td>NaN</td>\n      <td>NaN</td>\n      <td>NaN</td>\n      <td>NaN</td>\n      <td>NaN</td>\n      <td>NaN</td>\n      <td>NaN</td>\n      <td>NaN</td>\n      <td>NaN</td>\n      <td>L'Oréal Paris,Bùi Hạnh,quochung.pham@loreal.c...</td>\n    </tr>\n    <tr>\n      <th>122</th>\n      <td>NaN</td>\n      <td>NaN</td>\n      <td>NaN</td>\n      <td>NaT</td>\n      <td>NaT</td>\n      <td>NaN</td>\n      <td>NaN</td>\n      <td>NaN</td>\n      <td>NaN</td>\n      <td>NaN</td>\n      <td>...</td>\n      <td>NaN</td>\n      <td>NaN</td>\n      <td>NaN</td>\n      <td>NaN</td>\n      <td>NaN</td>\n      <td>NaN</td>\n      <td>NaN</td>\n      <td>NaN</td>\n      <td>NaN</td>\n      <td>L'Oréal Paris,Bùi Hạnh,quochung.pham@loreal.c...</td>\n    </tr>\n    <tr>\n      <th>123</th>\n      <td>NaN</td>\n      <td>NaN</td>\n      <td>NaN</td>\n      <td>NaT</td>\n      <td>NaT</td>\n      <td>NaN</td>\n      <td>NaN</td>\n      <td>NaN</td>\n      <td>NaN</td>\n      <td>NaN</td>\n      <td>...</td>\n      <td>NaN</td>\n      <td>NaN</td>\n      <td>NaN</td>\n      <td>NaN</td>\n      <td>NaN</td>\n      <td>NaN</td>\n      <td>NaN</td>\n      <td>NaN</td>\n      <td>NaN</td>\n      <td>Maybelline New York,Trang đoàn,buithiyenvy1910...</td>\n    </tr>\n    <tr>\n      <th>124</th>\n      <td>NaN</td>\n      <td>NaN</td>\n      <td>NaN</td>\n      <td>NaT</td>\n      <td>NaT</td>\n      <td>NaN</td>\n      <td>NaN</td>\n      <td>NaN</td>\n      <td>NaN</td>\n      <td>NaN</td>\n      <td>...</td>\n      <td>NaN</td>\n      <td>NaN</td>\n      <td>NaN</td>\n      <td>NaN</td>\n      <td>NaN</td>\n      <td>NaN</td>\n      <td>NaN</td>\n      <td>NaN</td>\n      <td>NaN</td>\n      <td>L'Oréal Paris,Bùi Hạnh,quochung.pham@loreal.c...</td>\n    </tr>\n    <tr>\n      <th>125</th>\n      <td>NaN</td>\n      <td>NaN</td>\n      <td>NaN</td>\n      <td>NaT</td>\n      <td>NaT</td>\n      <td>NaN</td>\n      <td>NaN</td>\n      <td>NaN</td>\n      <td>NaN</td>\n      <td>NaN</td>\n      <td>...</td>\n      <td>NaN</td>\n      <td>NaN</td>\n      <td>NaN</td>\n      <td>NaN</td>\n      <td>NaN</td>\n      <td>NaN</td>\n      <td>NaN</td>\n      <td>NaN</td>\n      <td>NaN</td>\n      <td>L'Oréal Paris,Bùi Hạnh,quochung.pham@loreal.c...</td>\n    </tr>\n  </tbody>\n</table>\n<p>28449 rows × 37 columns</p>\n</div>"
     },
     "execution_count": 2,
     "metadata": {},
     "output_type": "execute_result"
    }
   ],
   "source": [
    "path = \"C:\\\\Bi\\\\Win Backup\\\\LongDA\\\\Lvl2\\\\Class8 FIFO\\\\Basket Association\\\\\"\n",
    "df = pd.read_excel(path + \"Socom1.xlsx\")\n",
    "for i in os.listdir(path)[1:]:\n",
    "    df2 = pd.read_excel(path + i)\n",
    "    df = pd.concat([df, df2])\n",
    "    print(f\"Successfully concat file {i}\")\n",
    "\n",
    "df"
   ],
   "metadata": {
    "collapsed": false,
    "ExecuteTime": {
     "end_time": "2024-04-24T15:18:14.483110Z",
     "start_time": "2024-04-24T15:18:09.960446Z"
    }
   },
   "id": "da950983f5d7f05a",
   "execution_count": 2
  },
  {
   "cell_type": "code",
   "outputs": [
    {
     "name": "stderr",
     "output_type": "stream",
     "text": [
      "C:\\Users\\duytm\\AppData\\Local\\Temp\\ipykernel_16396\\1525866122.py:2: SettingWithCopyWarning: \n",
      "A value is trying to be set on a copy of a slice from a DataFrame\n",
      "\n",
      "See the caveats in the documentation: https://pandas.pydata.org/pandas-docs/stable/user_guide/indexing.html#returning-a-view-versus-a-copy\n",
      "  products.rename(columns = {'Đơn hàng': 'OrderID', 'Sản phẩm': 'Product'}, inplace = True)\n",
      "C:\\Users\\duytm\\AppData\\Local\\Temp\\ipykernel_16396\\1525866122.py:3: SettingWithCopyWarning: \n",
      "A value is trying to be set on a copy of a slice from a DataFrame.\n",
      "Try using .loc[row_indexer,col_indexer] = value instead\n",
      "\n",
      "See the caveats in the documentation: https://pandas.pydata.org/pandas-docs/stable/user_guide/indexing.html#returning-a-view-versus-a-copy\n",
      "  products['OrderID'] = products['OrderID'].astype('Int64')\n"
     ]
    },
    {
     "data": {
      "text/plain": "     OrderID                                            Product\n0     113572  Kem lót mịn da che khuyết điểm Maybelline New ...\n1     113572  Kem Trang Điểm Bb Che Khuyết Điểm Và Chống Nắn...\n2     113571                         [QUÀ TẶNG] Băng đô cài tóc\n3     113570  Serum Siêu cấp ẩm sáng da L'Oreal Paris Pure H...\n4     113569  Sữa rửa mặt dưỡng trắng và sáng mịn da L'Oréal...\n..       ...                                                ...\n121     <NA>                                                NaN\n122     <NA>                                                NaN\n123     <NA>                                                NaN\n124     <NA>                                                NaN\n125     <NA>                                                NaN\n\n[28449 rows x 2 columns]",
      "text/html": "<div>\n<style scoped>\n    .dataframe tbody tr th:only-of-type {\n        vertical-align: middle;\n    }\n\n    .dataframe tbody tr th {\n        vertical-align: top;\n    }\n\n    .dataframe thead th {\n        text-align: right;\n    }\n</style>\n<table border=\"1\" class=\"dataframe\">\n  <thead>\n    <tr style=\"text-align: right;\">\n      <th></th>\n      <th>OrderID</th>\n      <th>Product</th>\n    </tr>\n  </thead>\n  <tbody>\n    <tr>\n      <th>0</th>\n      <td>113572</td>\n      <td>Kem lót mịn da che khuyết điểm Maybelline New ...</td>\n    </tr>\n    <tr>\n      <th>1</th>\n      <td>113572</td>\n      <td>Kem Trang Điểm Bb Che Khuyết Điểm Và Chống Nắn...</td>\n    </tr>\n    <tr>\n      <th>2</th>\n      <td>113571</td>\n      <td>[QUÀ TẶNG] Băng đô cài tóc</td>\n    </tr>\n    <tr>\n      <th>3</th>\n      <td>113570</td>\n      <td>Serum Siêu cấp ẩm sáng da L'Oreal Paris Pure H...</td>\n    </tr>\n    <tr>\n      <th>4</th>\n      <td>113569</td>\n      <td>Sữa rửa mặt dưỡng trắng và sáng mịn da L'Oréal...</td>\n    </tr>\n    <tr>\n      <th>...</th>\n      <td>...</td>\n      <td>...</td>\n    </tr>\n    <tr>\n      <th>121</th>\n      <td>&lt;NA&gt;</td>\n      <td>NaN</td>\n    </tr>\n    <tr>\n      <th>122</th>\n      <td>&lt;NA&gt;</td>\n      <td>NaN</td>\n    </tr>\n    <tr>\n      <th>123</th>\n      <td>&lt;NA&gt;</td>\n      <td>NaN</td>\n    </tr>\n    <tr>\n      <th>124</th>\n      <td>&lt;NA&gt;</td>\n      <td>NaN</td>\n    </tr>\n    <tr>\n      <th>125</th>\n      <td>&lt;NA&gt;</td>\n      <td>NaN</td>\n    </tr>\n  </tbody>\n</table>\n<p>28449 rows × 2 columns</p>\n</div>"
     },
     "execution_count": 3,
     "metadata": {},
     "output_type": "execute_result"
    }
   ],
   "source": [
    "products = df[['Đơn hàng', 'Sản phẩm']]\n",
    "products.rename(columns = {'Đơn hàng': 'OrderID', 'Sản phẩm': 'Product'}, inplace = True)\n",
    "products['OrderID'] = products['OrderID'].astype('Int64')\n",
    "products"
   ],
   "metadata": {
    "collapsed": false,
    "ExecuteTime": {
     "end_time": "2024-04-24T15:19:26.158669Z",
     "start_time": "2024-04-24T15:19:26.142648Z"
    }
   },
   "id": "2f6a4015c6a42a0f",
   "execution_count": 3
  },
  {
   "cell_type": "code",
   "outputs": [
    {
     "name": "stderr",
     "output_type": "stream",
     "text": [
      "C:\\Users\\duytm\\AppData\\Local\\Temp\\ipykernel_16396\\3117496806.py:1: SettingWithCopyWarning: \n",
      "A value is trying to be set on a copy of a slice from a DataFrame.\n",
      "Try using .loc[row_indexer,col_indexer] = value instead\n",
      "\n",
      "See the caveats in the documentation: https://pandas.pydata.org/pandas-docs/stable/user_guide/indexing.html#returning-a-view-versus-a-copy\n",
      "  products['ProductType'] = products['Product'].astype(str).apply(lambda x: ' '.join(x.split()[:3]) if len(x.split()) >= 3 else \"ELSE\")\n"
     ]
    },
    {
     "data": {
      "text/plain": "      OrderID     ProductType\n0      113572     Kem lót mịn\n1      113572  Kem Trang Điểm\n3      113570  Serum Siêu cấp\n4      113569     Sữa rửa mặt\n5      113569  Kem chống nắng\n...       ...             ...\n4987   112566  Nước Tẩy Trang\n4988   112552  Serum Siêu cấp\n4989   112555    Phấn nền mịn\n4990   112530  Serum siêu cấp\n4991   112527  Serum Siêu cấp\n\n[7858 rows x 2 columns]",
      "text/html": "<div>\n<style scoped>\n    .dataframe tbody tr th:only-of-type {\n        vertical-align: middle;\n    }\n\n    .dataframe tbody tr th {\n        vertical-align: top;\n    }\n\n    .dataframe thead th {\n        text-align: right;\n    }\n</style>\n<table border=\"1\" class=\"dataframe\">\n  <thead>\n    <tr style=\"text-align: right;\">\n      <th></th>\n      <th>OrderID</th>\n      <th>ProductType</th>\n    </tr>\n  </thead>\n  <tbody>\n    <tr>\n      <th>0</th>\n      <td>113572</td>\n      <td>Kem lót mịn</td>\n    </tr>\n    <tr>\n      <th>1</th>\n      <td>113572</td>\n      <td>Kem Trang Điểm</td>\n    </tr>\n    <tr>\n      <th>3</th>\n      <td>113570</td>\n      <td>Serum Siêu cấp</td>\n    </tr>\n    <tr>\n      <th>4</th>\n      <td>113569</td>\n      <td>Sữa rửa mặt</td>\n    </tr>\n    <tr>\n      <th>5</th>\n      <td>113569</td>\n      <td>Kem chống nắng</td>\n    </tr>\n    <tr>\n      <th>...</th>\n      <td>...</td>\n      <td>...</td>\n    </tr>\n    <tr>\n      <th>4987</th>\n      <td>112566</td>\n      <td>Nước Tẩy Trang</td>\n    </tr>\n    <tr>\n      <th>4988</th>\n      <td>112552</td>\n      <td>Serum Siêu cấp</td>\n    </tr>\n    <tr>\n      <th>4989</th>\n      <td>112555</td>\n      <td>Phấn nền mịn</td>\n    </tr>\n    <tr>\n      <th>4990</th>\n      <td>112530</td>\n      <td>Serum siêu cấp</td>\n    </tr>\n    <tr>\n      <th>4991</th>\n      <td>112527</td>\n      <td>Serum Siêu cấp</td>\n    </tr>\n  </tbody>\n</table>\n<p>7858 rows × 2 columns</p>\n</div>"
     },
     "execution_count": 4,
     "metadata": {},
     "output_type": "execute_result"
    }
   ],
   "source": [
    "products['ProductType'] = products['Product'].astype(str).apply(lambda x: ' '.join(x.split()[:3]) if len(x.split()) >= 3 else \"ELSE\")\n",
    "products = products[['OrderID', 'ProductType']]\n",
    "products = products[~products['ProductType'].str.contains(r'(?i)\\[Quà tặng\\]', regex=True, na=False)]\n",
    "products = products[~products['ProductType'].str.contains(r'(?i)\\[Gift\\]', regex=True, na=False)]\n",
    "products = products[~products['ProductType'].str.contains(r'^ELSE$', regex=True, na=False)]\n",
    "products"
   ],
   "metadata": {
    "collapsed": false,
    "ExecuteTime": {
     "end_time": "2024-04-24T15:19:34.696855Z",
     "start_time": "2024-04-24T15:19:34.622306Z"
    }
   },
   "id": "444fe7e95c72ab3a",
   "execution_count": 4
  },
  {
   "cell_type": "code",
   "outputs": [
    {
     "data": {
      "text/plain": "      OrderID       ProductType  ItemNumber\n0      113572       Kem lót mịn           1\n1      113572    Kem Trang Điểm           2\n3      113570    Serum Siêu cấp           1\n4      113569       Sữa rửa mặt           1\n5      113569    Kem chống nắng           2\n...       ...               ...         ...\n4827   112540    Serum Siêu cấp           2\n4877   112562        Son Kem Lì           2\n4878   112572  Mascara Dưỡng Mi           2\n4938   112556        Son Kem Lì           2\n4985   112575        Son Kem Lì           2\n\n[2092 rows x 3 columns]",
      "text/html": "<div>\n<style scoped>\n    .dataframe tbody tr th:only-of-type {\n        vertical-align: middle;\n    }\n\n    .dataframe tbody tr th {\n        vertical-align: top;\n    }\n\n    .dataframe thead th {\n        text-align: right;\n    }\n</style>\n<table border=\"1\" class=\"dataframe\">\n  <thead>\n    <tr style=\"text-align: right;\">\n      <th></th>\n      <th>OrderID</th>\n      <th>ProductType</th>\n      <th>ItemNumber</th>\n    </tr>\n  </thead>\n  <tbody>\n    <tr>\n      <th>0</th>\n      <td>113572</td>\n      <td>Kem lót mịn</td>\n      <td>1</td>\n    </tr>\n    <tr>\n      <th>1</th>\n      <td>113572</td>\n      <td>Kem Trang Điểm</td>\n      <td>2</td>\n    </tr>\n    <tr>\n      <th>3</th>\n      <td>113570</td>\n      <td>Serum Siêu cấp</td>\n      <td>1</td>\n    </tr>\n    <tr>\n      <th>4</th>\n      <td>113569</td>\n      <td>Sữa rửa mặt</td>\n      <td>1</td>\n    </tr>\n    <tr>\n      <th>5</th>\n      <td>113569</td>\n      <td>Kem chống nắng</td>\n      <td>2</td>\n    </tr>\n    <tr>\n      <th>...</th>\n      <td>...</td>\n      <td>...</td>\n      <td>...</td>\n    </tr>\n    <tr>\n      <th>4827</th>\n      <td>112540</td>\n      <td>Serum Siêu cấp</td>\n      <td>2</td>\n    </tr>\n    <tr>\n      <th>4877</th>\n      <td>112562</td>\n      <td>Son Kem Lì</td>\n      <td>2</td>\n    </tr>\n    <tr>\n      <th>4878</th>\n      <td>112572</td>\n      <td>Mascara Dưỡng Mi</td>\n      <td>2</td>\n    </tr>\n    <tr>\n      <th>4938</th>\n      <td>112556</td>\n      <td>Son Kem Lì</td>\n      <td>2</td>\n    </tr>\n    <tr>\n      <th>4985</th>\n      <td>112575</td>\n      <td>Son Kem Lì</td>\n      <td>2</td>\n    </tr>\n  </tbody>\n</table>\n<p>2092 rows × 3 columns</p>\n</div>"
     },
     "execution_count": 5,
     "metadata": {},
     "output_type": "execute_result"
    }
   ],
   "source": [
    "products['ItemNumber'] = products.groupby('OrderID')['ProductType'].cumcount() +1\n",
    "products = products[products['ItemNumber']<= 2]\n",
    "products"
   ],
   "metadata": {
    "collapsed": false,
    "ExecuteTime": {
     "end_time": "2024-04-24T15:19:46.022783Z",
     "start_time": "2024-04-24T15:19:46.010949Z"
    }
   },
   "id": "7fdb310a11841333",
   "execution_count": 5
  },
  {
   "cell_type": "code",
   "outputs": [
    {
     "data": {
      "text/plain": "ProductType                    \nSerum Siêu cấp-Serum Siêu cấp      58\nNước tẩy trang-Nước tẩy trang      52\nSon Kem Lì-Son Kem Lì              49\nKem chống nắng-Kem chống nắng      37\nKem dưỡng trắng-Kem dưỡng trắng    33\n                                   ..\nKem nền mịn-Nước Tẩy Trang          1\nKem nền mịn-Phấn nền mịn            1\nKem nền mịn-Serum siêu cấp          1\nKem ủ ngăn-Dầu gội ngăn             1\nMascara Dày Mi-Mascara Dài Mi       1\nName: count, Length: 269, dtype: int64"
     },
     "execution_count": 6,
     "metadata": {},
     "output_type": "execute_result"
    }
   ],
   "source": [
    "def concatenate_product_types(product_types):\n",
    "    return '-'.join(product_types)\n",
    "\n",
    "products.pivot_table(index = 'OrderID', values = 'ProductType', aggfunc = concatenate_product_types).value_counts()"
   ],
   "metadata": {
    "collapsed": false,
    "ExecuteTime": {
     "end_time": "2024-04-24T15:19:55.743002Z",
     "start_time": "2024-04-24T15:19:55.716420Z"
    }
   },
   "id": "8c7dfbd3c03d06da",
   "execution_count": 6
  },
  {
   "cell_type": "code",
   "outputs": [],
   "source": [],
   "metadata": {
    "collapsed": false
   },
   "id": "dd743bd8a72ae588"
  }
 ],
 "metadata": {
  "kernelspec": {
   "display_name": "Python 3",
   "language": "python",
   "name": "python3"
  },
  "language_info": {
   "codemirror_mode": {
    "name": "ipython",
    "version": 2
   },
   "file_extension": ".py",
   "mimetype": "text/x-python",
   "name": "python",
   "nbconvert_exporter": "python",
   "pygments_lexer": "ipython2",
   "version": "2.7.6"
  }
 },
 "nbformat": 4,
 "nbformat_minor": 5
}
